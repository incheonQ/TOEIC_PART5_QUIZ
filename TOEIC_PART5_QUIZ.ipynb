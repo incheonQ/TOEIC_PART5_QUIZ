{
  "nbformat": 4,
  "nbformat_minor": 0,
  "metadata": {
    "colab": {
      "provenance": [],
      "collapsed_sections": [
        "_lxjgd80iV9-",
        "lOPiP5ARiX27",
        "gLUGeLdSpFTJ",
        "hljs2kxMp3Fe"
      ]
    },
    "kernelspec": {
      "name": "python3",
      "display_name": "Python 3"
    },
    "language_info": {
      "name": "python"
    }
  },
  "cells": [
    {
      "cell_type": "markdown",
      "source": [
        "**References**\n",
        "\n",
        "1. https://pymupdf.readthedocs.io/en/latest/how-to-open-a-file.html PyMuPDF 1.24.1 documentation Opening Files\n",
        "\n",
        "2. https://www.hackers.co.kr/?c=s_toeic/toeic_board/B_TOEIC_data&uid=420155&source=http:// Source of PDF\n",
        "\n",
        "**KeyWords** : Data Mining with PyMuPDF, Regular expression"
      ],
      "metadata": {
        "id": "IHAkH17weOI9"
      }
    },
    {
      "cell_type": "code",
      "source": [
        "# !pip install PyMuPDF"
      ],
      "metadata": {
        "id": "enoJzFWneOpC"
      },
      "execution_count": 1,
      "outputs": []
    },
    {
      "cell_type": "markdown",
      "source": [
        "## Questions"
      ],
      "metadata": {
        "id": "_lxjgd80iV9-"
      }
    },
    {
      "cell_type": "code",
      "source": [
        "# read and integrate\n",
        "\n",
        "def open_pdf(path):\n",
        "  import fitz\n",
        "  doc = fitz.open(path)\n",
        "\n",
        "  pdf = ''\n",
        "  for page in doc:\n",
        "      text = page.get_text()\n",
        "      pdf += text\n",
        "\n",
        "  return pdf"
      ],
      "metadata": {
        "id": "VHLgB-9geSj7"
      },
      "execution_count": 2,
      "outputs": []
    },
    {
      "cell_type": "code",
      "source": [
        "path = \"toeic_part5_2196.pdf\"\n",
        "pdf_questions = open_pdf(path)"
      ],
      "metadata": {
        "id": "-q81W2eji5iF"
      },
      "execution_count": 3,
      "outputs": []
    },
    {
      "cell_type": "code",
      "source": [
        "# split\n",
        "import re\n",
        "\n",
        "questions = re.split(r'\\[', pdf_questions)"
      ],
      "metadata": {
        "id": "YAiHjBpzefSG"
      },
      "execution_count": 4,
      "outputs": []
    },
    {
      "cell_type": "code",
      "source": [
        "questions = questions[1:]"
      ],
      "metadata": {
        "id": "kzbX6njVexDo"
      },
      "execution_count": 5,
      "outputs": []
    },
    {
      "cell_type": "code",
      "source": [
        "len(questions)"
      ],
      "metadata": {
        "colab": {
          "base_uri": "https://localhost:8080/"
        },
        "id": "JO6IY2NcgJkY",
        "outputId": "863b25c3-2f2c-40ee-cc6b-83429db498ca"
      },
      "execution_count": 6,
      "outputs": [
        {
          "output_type": "execute_result",
          "data": {
            "text/plain": [
              "2196"
            ]
          },
          "metadata": {},
          "execution_count": 6
        }
      ]
    },
    {
      "cell_type": "code",
      "source": [
        "questions = [i.split(']')[1] for i in questions]"
      ],
      "metadata": {
        "id": "P2Bt6xHYvvVJ"
      },
      "execution_count": 7,
      "outputs": []
    },
    {
      "cell_type": "code",
      "source": [
        "print(questions[2195])"
      ],
      "metadata": {
        "colab": {
          "base_uri": "https://localhost:8080/"
        },
        "id": "Xu5KAPLugxDU",
        "outputId": "ecbcb4ff-dfd0-480b-9231-c3a3ff49697b"
      },
      "execution_count": 8,
      "outputs": [
        {
          "output_type": "stream",
          "name": "stdout",
          "text": [
            " \n",
            "3.After becoming finance manager, William \n",
            "Henderson _______ an audit of the company's \n",
            "financial records to determine cash flow \n",
            "projections for the next three months. \n",
            "(A) discharged \n",
            "(B) replenished \n",
            "(C) implemented \n",
            "(D) contributed \n",
            "  \n",
            "\n"
          ]
        }
      ]
    },
    {
      "cell_type": "markdown",
      "source": [
        "## Answers"
      ],
      "metadata": {
        "id": "lOPiP5ARiX27"
      }
    },
    {
      "cell_type": "code",
      "source": [
        "path = \"toeic_part5_2196_answer.pdf\"\n",
        "pdf_answers = open_pdf(path)"
      ],
      "metadata": {
        "id": "PbGE6Rv7iYub"
      },
      "execution_count": 9,
      "outputs": []
    },
    {
      "cell_type": "code",
      "source": [
        "# split\n",
        "import re\n",
        "\n",
        "list_result = re.findall(r'\\]\\s\\s\\n\\([A-Z]\\)\\s', pdf_answers)"
      ],
      "metadata": {
        "id": "U_PkP81-icWs"
      },
      "execution_count": 10,
      "outputs": []
    },
    {
      "cell_type": "code",
      "source": [
        "len(list_result)"
      ],
      "metadata": {
        "colab": {
          "base_uri": "https://localhost:8080/"
        },
        "id": "R-AfiYMZmAx2",
        "outputId": "5b6db4e4-02a5-49a8-a34a-051c51d47001"
      },
      "execution_count": 11,
      "outputs": [
        {
          "output_type": "execute_result",
          "data": {
            "text/plain": [
              "2196"
            ]
          },
          "metadata": {},
          "execution_count": 11
        }
      ]
    },
    {
      "cell_type": "code",
      "source": [
        "answers = [i.split('(')[1].replace(') ', '') for i in list_result]"
      ],
      "metadata": {
        "id": "FgiKMbR9kq7D"
      },
      "execution_count": 12,
      "outputs": []
    },
    {
      "cell_type": "code",
      "source": [
        "len(answers)"
      ],
      "metadata": {
        "colab": {
          "base_uri": "https://localhost:8080/"
        },
        "id": "HzIUYKbEo0DX",
        "outputId": "b1d418f7-56ac-4b61-eb47-122986d3e376"
      },
      "execution_count": 13,
      "outputs": [
        {
          "output_type": "execute_result",
          "data": {
            "text/plain": [
              "2196"
            ]
          },
          "metadata": {},
          "execution_count": 13
        }
      ]
    },
    {
      "cell_type": "markdown",
      "source": [
        "## Make DataFrame"
      ],
      "metadata": {
        "id": "gLUGeLdSpFTJ"
      }
    },
    {
      "cell_type": "code",
      "source": [
        "import pandas as pd"
      ],
      "metadata": {
        "id": "Aqq98tNnpBNY"
      },
      "execution_count": 14,
      "outputs": []
    },
    {
      "cell_type": "code",
      "source": [
        "df = pd.DataFrame({'q':questions,\n",
        "                   'a':answers})"
      ],
      "metadata": {
        "id": "CJQPJRenpLmY"
      },
      "execution_count": 15,
      "outputs": []
    },
    {
      "cell_type": "code",
      "source": [
        "df"
      ],
      "metadata": {
        "colab": {
          "base_uri": "https://localhost:8080/",
          "height": 423
        },
        "id": "CbITPOMTpgEJ",
        "outputId": "84e2efb2-9139-46cf-a5fc-68689815f374"
      },
      "execution_count": 16,
      "outputs": [
        {
          "output_type": "execute_result",
          "data": {
            "text/plain": [
              "                                                      q  a\n",
              "0      \\n1.To _______ the repair job on time, the en...  D\n",
              "1      \\n2.The union leader plans to _______ his rem...  A\n",
              "2      \\n3._______ to secure your export products, w...  A\n",
              "3      \\n1.The consultant was impressed that the \\nd...  C\n",
              "4      \\n2.Jerry Cunningham will ------- the names o...  A\n",
              "...                                                 ... ..\n",
              "2191   \\n2.Connoisseurs of twentieth century classic...  B\n",
              "2192   \\n3.First established as a light bulb manufac...  B\n",
              "2193   \\n1.The Cottrell Street Bridge was closed the...  A\n",
              "2194   \\n2.The reason the neighborhood is attractive...  C\n",
              "2195   \\n3.After becoming finance manager, William \\...  C\n",
              "\n",
              "[2196 rows x 2 columns]"
            ],
            "text/html": [
              "\n",
              "  <div id=\"df-9a1736d0-0ff4-4c1f-b34d-6cd162d395c4\" class=\"colab-df-container\">\n",
              "    <div>\n",
              "<style scoped>\n",
              "    .dataframe tbody tr th:only-of-type {\n",
              "        vertical-align: middle;\n",
              "    }\n",
              "\n",
              "    .dataframe tbody tr th {\n",
              "        vertical-align: top;\n",
              "    }\n",
              "\n",
              "    .dataframe thead th {\n",
              "        text-align: right;\n",
              "    }\n",
              "</style>\n",
              "<table border=\"1\" class=\"dataframe\">\n",
              "  <thead>\n",
              "    <tr style=\"text-align: right;\">\n",
              "      <th></th>\n",
              "      <th>q</th>\n",
              "      <th>a</th>\n",
              "    </tr>\n",
              "  </thead>\n",
              "  <tbody>\n",
              "    <tr>\n",
              "      <th>0</th>\n",
              "      <td>\\n1.To _______ the repair job on time, the en...</td>\n",
              "      <td>D</td>\n",
              "    </tr>\n",
              "    <tr>\n",
              "      <th>1</th>\n",
              "      <td>\\n2.The union leader plans to _______ his rem...</td>\n",
              "      <td>A</td>\n",
              "    </tr>\n",
              "    <tr>\n",
              "      <th>2</th>\n",
              "      <td>\\n3._______ to secure your export products, w...</td>\n",
              "      <td>A</td>\n",
              "    </tr>\n",
              "    <tr>\n",
              "      <th>3</th>\n",
              "      <td>\\n1.The consultant was impressed that the \\nd...</td>\n",
              "      <td>C</td>\n",
              "    </tr>\n",
              "    <tr>\n",
              "      <th>4</th>\n",
              "      <td>\\n2.Jerry Cunningham will ------- the names o...</td>\n",
              "      <td>A</td>\n",
              "    </tr>\n",
              "    <tr>\n",
              "      <th>...</th>\n",
              "      <td>...</td>\n",
              "      <td>...</td>\n",
              "    </tr>\n",
              "    <tr>\n",
              "      <th>2191</th>\n",
              "      <td>\\n2.Connoisseurs of twentieth century classic...</td>\n",
              "      <td>B</td>\n",
              "    </tr>\n",
              "    <tr>\n",
              "      <th>2192</th>\n",
              "      <td>\\n3.First established as a light bulb manufac...</td>\n",
              "      <td>B</td>\n",
              "    </tr>\n",
              "    <tr>\n",
              "      <th>2193</th>\n",
              "      <td>\\n1.The Cottrell Street Bridge was closed the...</td>\n",
              "      <td>A</td>\n",
              "    </tr>\n",
              "    <tr>\n",
              "      <th>2194</th>\n",
              "      <td>\\n2.The reason the neighborhood is attractive...</td>\n",
              "      <td>C</td>\n",
              "    </tr>\n",
              "    <tr>\n",
              "      <th>2195</th>\n",
              "      <td>\\n3.After becoming finance manager, William \\...</td>\n",
              "      <td>C</td>\n",
              "    </tr>\n",
              "  </tbody>\n",
              "</table>\n",
              "<p>2196 rows × 2 columns</p>\n",
              "</div>\n",
              "    <div class=\"colab-df-buttons\">\n",
              "\n",
              "  <div class=\"colab-df-container\">\n",
              "    <button class=\"colab-df-convert\" onclick=\"convertToInteractive('df-9a1736d0-0ff4-4c1f-b34d-6cd162d395c4')\"\n",
              "            title=\"Convert this dataframe to an interactive table.\"\n",
              "            style=\"display:none;\">\n",
              "\n",
              "  <svg xmlns=\"http://www.w3.org/2000/svg\" height=\"24px\" viewBox=\"0 -960 960 960\">\n",
              "    <path d=\"M120-120v-720h720v720H120Zm60-500h600v-160H180v160Zm220 220h160v-160H400v160Zm0 220h160v-160H400v160ZM180-400h160v-160H180v160Zm440 0h160v-160H620v160ZM180-180h160v-160H180v160Zm440 0h160v-160H620v160Z\"/>\n",
              "  </svg>\n",
              "    </button>\n",
              "\n",
              "  <style>\n",
              "    .colab-df-container {\n",
              "      display:flex;\n",
              "      gap: 12px;\n",
              "    }\n",
              "\n",
              "    .colab-df-convert {\n",
              "      background-color: #E8F0FE;\n",
              "      border: none;\n",
              "      border-radius: 50%;\n",
              "      cursor: pointer;\n",
              "      display: none;\n",
              "      fill: #1967D2;\n",
              "      height: 32px;\n",
              "      padding: 0 0 0 0;\n",
              "      width: 32px;\n",
              "    }\n",
              "\n",
              "    .colab-df-convert:hover {\n",
              "      background-color: #E2EBFA;\n",
              "      box-shadow: 0px 1px 2px rgba(60, 64, 67, 0.3), 0px 1px 3px 1px rgba(60, 64, 67, 0.15);\n",
              "      fill: #174EA6;\n",
              "    }\n",
              "\n",
              "    .colab-df-buttons div {\n",
              "      margin-bottom: 4px;\n",
              "    }\n",
              "\n",
              "    [theme=dark] .colab-df-convert {\n",
              "      background-color: #3B4455;\n",
              "      fill: #D2E3FC;\n",
              "    }\n",
              "\n",
              "    [theme=dark] .colab-df-convert:hover {\n",
              "      background-color: #434B5C;\n",
              "      box-shadow: 0px 1px 3px 1px rgba(0, 0, 0, 0.15);\n",
              "      filter: drop-shadow(0px 1px 2px rgba(0, 0, 0, 0.3));\n",
              "      fill: #FFFFFF;\n",
              "    }\n",
              "  </style>\n",
              "\n",
              "    <script>\n",
              "      const buttonEl =\n",
              "        document.querySelector('#df-9a1736d0-0ff4-4c1f-b34d-6cd162d395c4 button.colab-df-convert');\n",
              "      buttonEl.style.display =\n",
              "        google.colab.kernel.accessAllowed ? 'block' : 'none';\n",
              "\n",
              "      async function convertToInteractive(key) {\n",
              "        const element = document.querySelector('#df-9a1736d0-0ff4-4c1f-b34d-6cd162d395c4');\n",
              "        const dataTable =\n",
              "          await google.colab.kernel.invokeFunction('convertToInteractive',\n",
              "                                                    [key], {});\n",
              "        if (!dataTable) return;\n",
              "\n",
              "        const docLinkHtml = 'Like what you see? Visit the ' +\n",
              "          '<a target=\"_blank\" href=https://colab.research.google.com/notebooks/data_table.ipynb>data table notebook</a>'\n",
              "          + ' to learn more about interactive tables.';\n",
              "        element.innerHTML = '';\n",
              "        dataTable['output_type'] = 'display_data';\n",
              "        await google.colab.output.renderOutput(dataTable, element);\n",
              "        const docLink = document.createElement('div');\n",
              "        docLink.innerHTML = docLinkHtml;\n",
              "        element.appendChild(docLink);\n",
              "      }\n",
              "    </script>\n",
              "  </div>\n",
              "\n",
              "\n",
              "<div id=\"df-ddb5d78a-4ce0-458c-b4e1-7c9d51315bbc\">\n",
              "  <button class=\"colab-df-quickchart\" onclick=\"quickchart('df-ddb5d78a-4ce0-458c-b4e1-7c9d51315bbc')\"\n",
              "            title=\"Suggest charts\"\n",
              "            style=\"display:none;\">\n",
              "\n",
              "<svg xmlns=\"http://www.w3.org/2000/svg\" height=\"24px\"viewBox=\"0 0 24 24\"\n",
              "     width=\"24px\">\n",
              "    <g>\n",
              "        <path d=\"M19 3H5c-1.1 0-2 .9-2 2v14c0 1.1.9 2 2 2h14c1.1 0 2-.9 2-2V5c0-1.1-.9-2-2-2zM9 17H7v-7h2v7zm4 0h-2V7h2v10zm4 0h-2v-4h2v4z\"/>\n",
              "    </g>\n",
              "</svg>\n",
              "  </button>\n",
              "\n",
              "<style>\n",
              "  .colab-df-quickchart {\n",
              "      --bg-color: #E8F0FE;\n",
              "      --fill-color: #1967D2;\n",
              "      --hover-bg-color: #E2EBFA;\n",
              "      --hover-fill-color: #174EA6;\n",
              "      --disabled-fill-color: #AAA;\n",
              "      --disabled-bg-color: #DDD;\n",
              "  }\n",
              "\n",
              "  [theme=dark] .colab-df-quickchart {\n",
              "      --bg-color: #3B4455;\n",
              "      --fill-color: #D2E3FC;\n",
              "      --hover-bg-color: #434B5C;\n",
              "      --hover-fill-color: #FFFFFF;\n",
              "      --disabled-bg-color: #3B4455;\n",
              "      --disabled-fill-color: #666;\n",
              "  }\n",
              "\n",
              "  .colab-df-quickchart {\n",
              "    background-color: var(--bg-color);\n",
              "    border: none;\n",
              "    border-radius: 50%;\n",
              "    cursor: pointer;\n",
              "    display: none;\n",
              "    fill: var(--fill-color);\n",
              "    height: 32px;\n",
              "    padding: 0;\n",
              "    width: 32px;\n",
              "  }\n",
              "\n",
              "  .colab-df-quickchart:hover {\n",
              "    background-color: var(--hover-bg-color);\n",
              "    box-shadow: 0 1px 2px rgba(60, 64, 67, 0.3), 0 1px 3px 1px rgba(60, 64, 67, 0.15);\n",
              "    fill: var(--button-hover-fill-color);\n",
              "  }\n",
              "\n",
              "  .colab-df-quickchart-complete:disabled,\n",
              "  .colab-df-quickchart-complete:disabled:hover {\n",
              "    background-color: var(--disabled-bg-color);\n",
              "    fill: var(--disabled-fill-color);\n",
              "    box-shadow: none;\n",
              "  }\n",
              "\n",
              "  .colab-df-spinner {\n",
              "    border: 2px solid var(--fill-color);\n",
              "    border-color: transparent;\n",
              "    border-bottom-color: var(--fill-color);\n",
              "    animation:\n",
              "      spin 1s steps(1) infinite;\n",
              "  }\n",
              "\n",
              "  @keyframes spin {\n",
              "    0% {\n",
              "      border-color: transparent;\n",
              "      border-bottom-color: var(--fill-color);\n",
              "      border-left-color: var(--fill-color);\n",
              "    }\n",
              "    20% {\n",
              "      border-color: transparent;\n",
              "      border-left-color: var(--fill-color);\n",
              "      border-top-color: var(--fill-color);\n",
              "    }\n",
              "    30% {\n",
              "      border-color: transparent;\n",
              "      border-left-color: var(--fill-color);\n",
              "      border-top-color: var(--fill-color);\n",
              "      border-right-color: var(--fill-color);\n",
              "    }\n",
              "    40% {\n",
              "      border-color: transparent;\n",
              "      border-right-color: var(--fill-color);\n",
              "      border-top-color: var(--fill-color);\n",
              "    }\n",
              "    60% {\n",
              "      border-color: transparent;\n",
              "      border-right-color: var(--fill-color);\n",
              "    }\n",
              "    80% {\n",
              "      border-color: transparent;\n",
              "      border-right-color: var(--fill-color);\n",
              "      border-bottom-color: var(--fill-color);\n",
              "    }\n",
              "    90% {\n",
              "      border-color: transparent;\n",
              "      border-bottom-color: var(--fill-color);\n",
              "    }\n",
              "  }\n",
              "</style>\n",
              "\n",
              "  <script>\n",
              "    async function quickchart(key) {\n",
              "      const quickchartButtonEl =\n",
              "        document.querySelector('#' + key + ' button');\n",
              "      quickchartButtonEl.disabled = true;  // To prevent multiple clicks.\n",
              "      quickchartButtonEl.classList.add('colab-df-spinner');\n",
              "      try {\n",
              "        const charts = await google.colab.kernel.invokeFunction(\n",
              "            'suggestCharts', [key], {});\n",
              "      } catch (error) {\n",
              "        console.error('Error during call to suggestCharts:', error);\n",
              "      }\n",
              "      quickchartButtonEl.classList.remove('colab-df-spinner');\n",
              "      quickchartButtonEl.classList.add('colab-df-quickchart-complete');\n",
              "    }\n",
              "    (() => {\n",
              "      let quickchartButtonEl =\n",
              "        document.querySelector('#df-ddb5d78a-4ce0-458c-b4e1-7c9d51315bbc button');\n",
              "      quickchartButtonEl.style.display =\n",
              "        google.colab.kernel.accessAllowed ? 'block' : 'none';\n",
              "    })();\n",
              "  </script>\n",
              "</div>\n",
              "\n",
              "  <div id=\"id_b3cdb6ee-3beb-44e1-a1a3-c1671f249e28\">\n",
              "    <style>\n",
              "      .colab-df-generate {\n",
              "        background-color: #E8F0FE;\n",
              "        border: none;\n",
              "        border-radius: 50%;\n",
              "        cursor: pointer;\n",
              "        display: none;\n",
              "        fill: #1967D2;\n",
              "        height: 32px;\n",
              "        padding: 0 0 0 0;\n",
              "        width: 32px;\n",
              "      }\n",
              "\n",
              "      .colab-df-generate:hover {\n",
              "        background-color: #E2EBFA;\n",
              "        box-shadow: 0px 1px 2px rgba(60, 64, 67, 0.3), 0px 1px 3px 1px rgba(60, 64, 67, 0.15);\n",
              "        fill: #174EA6;\n",
              "      }\n",
              "\n",
              "      [theme=dark] .colab-df-generate {\n",
              "        background-color: #3B4455;\n",
              "        fill: #D2E3FC;\n",
              "      }\n",
              "\n",
              "      [theme=dark] .colab-df-generate:hover {\n",
              "        background-color: #434B5C;\n",
              "        box-shadow: 0px 1px 3px 1px rgba(0, 0, 0, 0.15);\n",
              "        filter: drop-shadow(0px 1px 2px rgba(0, 0, 0, 0.3));\n",
              "        fill: #FFFFFF;\n",
              "      }\n",
              "    </style>\n",
              "    <button class=\"colab-df-generate\" onclick=\"generateWithVariable('df')\"\n",
              "            title=\"Generate code using this dataframe.\"\n",
              "            style=\"display:none;\">\n",
              "\n",
              "  <svg xmlns=\"http://www.w3.org/2000/svg\" height=\"24px\"viewBox=\"0 0 24 24\"\n",
              "       width=\"24px\">\n",
              "    <path d=\"M7,19H8.4L18.45,9,17,7.55,7,17.6ZM5,21V16.75L18.45,3.32a2,2,0,0,1,2.83,0l1.4,1.43a1.91,1.91,0,0,1,.58,1.4,1.91,1.91,0,0,1-.58,1.4L9.25,21ZM18.45,9,17,7.55Zm-12,3A5.31,5.31,0,0,0,4.9,8.1,5.31,5.31,0,0,0,1,6.5,5.31,5.31,0,0,0,4.9,4.9,5.31,5.31,0,0,0,6.5,1,5.31,5.31,0,0,0,8.1,4.9,5.31,5.31,0,0,0,12,6.5,5.46,5.46,0,0,0,6.5,12Z\"/>\n",
              "  </svg>\n",
              "    </button>\n",
              "    <script>\n",
              "      (() => {\n",
              "      const buttonEl =\n",
              "        document.querySelector('#id_b3cdb6ee-3beb-44e1-a1a3-c1671f249e28 button.colab-df-generate');\n",
              "      buttonEl.style.display =\n",
              "        google.colab.kernel.accessAllowed ? 'block' : 'none';\n",
              "\n",
              "      buttonEl.onclick = () => {\n",
              "        google.colab.notebook.generateWithVariable('df');\n",
              "      }\n",
              "      })();\n",
              "    </script>\n",
              "  </div>\n",
              "\n",
              "    </div>\n",
              "  </div>\n"
            ],
            "application/vnd.google.colaboratory.intrinsic+json": {
              "type": "dataframe",
              "variable_name": "df",
              "summary": "{\n  \"name\": \"df\",\n  \"rows\": 2196,\n  \"fields\": [\n    {\n      \"column\": \"q\",\n      \"properties\": {\n        \"dtype\": \"string\",\n        \"num_unique_values\": 2195,\n        \"samples\": [\n          \" \\n2.The purpose of the 2-hour workshop \\nscheduled for tomorrow morning is to teach \\nboth managers and staff to cooperate with \\n_______. \\n(A) the other \\n(B) one another \\n(C) another \\n(D) other \\n\",\n          \" \\n1. \\nAlthough Ms. Hamilton rejected the terms of \\nthe contract, she _______ requested the \\ncompany for a renegotiation.  \\n(A) later  \\n(B) before  \\n(C) otherwise \\n(D) even \\n\",\n          \" \\n2.At a business convention, an invited speaker \\ndiscussed the _______ issues affecting economic \\ngrowth in Europe, Africa and Asia. \\n(A) optimistic \\n(B) key \\n(C) midway \\n(D) effective \\n\"\n        ],\n        \"semantic_type\": \"\",\n        \"description\": \"\"\n      }\n    },\n    {\n      \"column\": \"a\",\n      \"properties\": {\n        \"dtype\": \"category\",\n        \"num_unique_values\": 4,\n        \"samples\": [\n          \"A\",\n          \"B\",\n          \"D\"\n        ],\n        \"semantic_type\": \"\",\n        \"description\": \"\"\n      }\n    }\n  ]\n}"
            }
          },
          "metadata": {},
          "execution_count": 16
        }
      ]
    },
    {
      "cell_type": "markdown",
      "source": [
        "## Make a game"
      ],
      "metadata": {
        "id": "hljs2kxMp3Fe"
      }
    },
    {
      "cell_type": "code",
      "source": [
        "def toeic_part5_quiz(n):\n",
        "  #from google.colab import output\n",
        "\n",
        "  cnt = 0\n",
        "  wrongs = []\n",
        "\n",
        "  tmp = df.sample(n)\n",
        "\n",
        "  for i in range(n):\n",
        "\n",
        "    print('\\n')\n",
        "    print(f'{i+1}'+tmp.iloc[i, 0][3:])\n",
        "\n",
        "    ans = input('Your Answer: ').upper()\n",
        "\n",
        "    if ans == tmp.iloc[i, 1]:\n",
        "      cnt += 1\n",
        "    else:\n",
        "      wrongs.append(i+1)\n",
        "\n",
        "    #output.clear()# if you need this function, use it!\n",
        "\n",
        "  print(f\"Correct: {cnt} / Total: {n}\")\n",
        "  print(f\"Wrong : {wrongs}\")"
      ],
      "metadata": {
        "id": "UKnGaNK-qlzl"
      },
      "execution_count": 24,
      "outputs": []
    },
    {
      "cell_type": "code",
      "source": [
        "toeic_part5_quiz(5)"
      ],
      "metadata": {
        "colab": {
          "base_uri": "https://localhost:8080/"
        },
        "id": "N4lMQN1rp4hg",
        "outputId": "32c31105-60b9-4e0a-a6b7-ec7353b753ad"
      },
      "execution_count": 25,
      "outputs": [
        {
          "output_type": "stream",
          "name": "stdout",
          "text": [
            "\n",
            "\n",
            "1.Health Haven is a wellness center actively \n",
            "involved in ------- fitness programs for senior \n",
            "citizens living in retirement homes. \n",
            "(A) arrange  \n",
            "(B) arranges  \n",
            "(C) arranging  \n",
            "(D) arranged  \n",
            "\n",
            "Your Answer: A\n",
            "\n",
            "\n",
            "2.Dr. Lowe is ------- to extend his consultation \n",
            "hours until 4 P\n",
            ".M. today, due to the increased \n",
            "number of patients experiencing flu like \n",
            "symptoms. \n",
            "(A) completed \n",
            "(B) expected \n",
            "(C) continued \n",
            "(D) transformed \n",
            "\n",
            "Your Answer: A\n",
            "\n",
            "\n",
            "3.Patroclus Pharmaceuticals has released some \n",
            "new herbal medicines that ------- strengthen \n",
            "the body’s immune system. \n",
            "(A) specified \n",
            "(B) specifically \n",
            "(C) specificity \n",
            "(D) specification \n",
            "\n",
            "Your Answer: A\n",
            "\n",
            "\n",
            "4._______ the author’s newest novel went on sale, \n",
            "it quickly sold millions of copies despite getting \n",
            "mostly negative reviews. \n",
            "(A) Whenever  \n",
            "(B) Once  \n",
            "(C) Until  \n",
            "(D) Though \n",
            "\n",
            "Your Answer: A\n",
            "\n",
            "\n",
            "5.At a business convention, an invited speaker \n",
            "discussed the _______ issues affecting economic \n",
            "growth in Europe, Africa and Asia. \n",
            "(A) optimistic \n",
            "(B) key \n",
            "(C) midway \n",
            "(D) effective \n",
            "\n",
            "Your Answer: A\n",
            "Correct: 0 / Total: 5\n",
            "Wrong : [1, 2, 3, 4, 5]\n"
          ]
        }
      ]
    }
  ]
}
